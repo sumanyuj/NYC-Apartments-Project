{
 "cells": [
  {
   "attachments": {},
   "cell_type": "markdown",
   "metadata": {},
   "source": [
    "# NYC Apartments Project!\n",
    "\n",
    "Using apartment data from StreatEasy, I will perform a data analyis of NYC Apartment data from Queens, Brookyln, and Manhattan. \n",
    "\n",
    "I will:\n",
    "\n",
    "- Load and Clean the Daa\n",
    "\n",
    "- Perform Basic Statistical Analysis\n",
    "\n",
    "- Create Single and Multivariate Visualizations \n",
    "\n",
    "- Come to Several Concusions"
   ]
  },
  {
   "cell_type": "code",
   "execution_count": null,
   "metadata": {},
   "outputs": [],
   "source": []
  }
 ],
 "metadata": {
  "kernelspec": {
   "display_name": "Python 3",
   "language": "python",
   "name": "python3"
  },
  "language_info": {
   "name": "python",
   "version": "3.11.4"
  },
  "orig_nbformat": 4
 },
 "nbformat": 4,
 "nbformat_minor": 2
}
